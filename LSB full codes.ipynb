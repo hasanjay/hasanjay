{
  "nbformat": 4,
  "nbformat_minor": 0,
  "metadata": {
    "colab": {
      "name": "Untitled22.ipynb",
      "provenance": [],
      "authorship_tag": "ABX9TyPnSZzEPXNTs36G2AkADss4",
      "include_colab_link": true
    },
    "kernelspec": {
      "name": "python3",
      "display_name": "Python 3"
    },
    "language_info": {
      "name": "python"
    }
  },
  "cells": [
    {
      "cell_type": "markdown",
      "metadata": {
        "id": "view-in-github",
        "colab_type": "text"
      },
      "source": [
        "<a href=\"https://colab.research.google.com/github/hasanjay/hasanjay/blob/main/LSB%20full%20codes.ipynb\" target=\"_parent\"><img src=\"https://colab.research.google.com/assets/colab-badge.svg\" alt=\"Open In Colab\"/></a>"
      ]
    },
    {
      "cell_type": "code",
      "metadata": {
        "id": "FKRO1rGz5MwQ",
        "colab": {
          "base_uri": "https://localhost:8080/"
        },
        "outputId": "6b4cde4c-77fb-4b3d-94a5-be934bdbc37a"
      },
      "source": [
        "#import libraries\n",
        "import sys\n",
        "import numpy as np\n",
        "from PIL import Image\n",
        "np.set_printoptions(threshold=sys.maxsize)\n",
        "\n",
        "#encoding function\n",
        "def Encode(src, message, dest):\n",
        "\n",
        "    img = Image.open(src, 'r')\n",
        "    width, height = img.size\n",
        "    array = np.array(list(img.getdata()))\n",
        "\n",
        "    if img.mode == 'RGB':\n",
        "        n = 3\n",
        "    elif img.mode == 'RGBA':\n",
        "        n = 4\n",
        "\n",
        "    total_pixels = array.size//n\n",
        "\n",
        "    message += \"$t3g0\"\n",
        "    b_message = ''.join([format(ord(i), \"08b\") for i in message])\n",
        "    req_pixels = len(b_message)\n",
        "\n",
        "    if req_pixels > total_pixels:\n",
        "        print(\"ERROR: Need larger file size\")\n",
        "\n",
        "    else:\n",
        "        index=0\n",
        "        for p in range(total_pixels):\n",
        "            for q in range(0, 3):\n",
        "                if index < req_pixels:\n",
        "                    array[p][q] = int(bin(array[p][q])[2:9] + b_message[index], 2)\n",
        "                    index += 1\n",
        "\n",
        "        array=array.reshape(height, width, n)\n",
        "        enc_img = Image.fromarray(array.astype('uint8'), img.mode)\n",
        "        enc_img.save(dest)\n",
        "        print(\"Image Encoded Successfully\")\n",
        "\n",
        "\n",
        "#decoding function\n",
        "def Decode(src):\n",
        "\n",
        "    img = Image.open(src, 'r')\n",
        "    array = np.array(list(img.getdata()))\n",
        "\n",
        "    if img.mode == 'RGB':\n",
        "        n = 3\n",
        "    elif img.mode == 'RGBA':\n",
        "        n = 4\n",
        "\n",
        "    total_pixels = array.size//n\n",
        "\n",
        "    hidden_bits = \"\"\n",
        "    for p in range(total_pixels):\n",
        "        for q in range(0, 3):\n",
        "            hidden_bits += (bin(array[p][q])[2:][-1])\n",
        "\n",
        "    hidden_bits = [hidden_bits[i:i+8] for i in range(0, len(hidden_bits), 8)]\n",
        "\n",
        "    message = \"\"\n",
        "    for i in range(len(hidden_bits)):\n",
        "        if message[-5:] == \"$t3g0\":\n",
        "            break\n",
        "        else:\n",
        "            message += chr(int(hidden_bits[i], 2))\n",
        "    if \"$t3g0\" in message:\n",
        "        print(\"Hidden Message:\", message[:-5])\n",
        "    else:\n",
        "        print(\"No Hidden Message Found\")\n",
        "\n",
        "#main function\n",
        "def Stego():\n",
        "    print(\"--Welcome to $t3g0--\")\n",
        "    print(\"1: Encode\")\n",
        "    print(\"2: Decode\")\n",
        "\n",
        "    func = input()\n",
        "\n",
        "    if func == '1':\n",
        "        print(\"Enter Source Image Path\")\n",
        "        src = input()\n",
        "        print(\"Enter Message to Hide\")\n",
        "        message = input()\n",
        "        print(\"Enter Destination Image Path\")\n",
        "        dest = input()\n",
        "        print(\"Encoding...\")\n",
        "        Encode(src, message, dest)\n",
        "\n",
        "    elif func == '2':\n",
        "        print(\"Enter Source Image Path\")\n",
        "        src = input()\n",
        "        print(\"Decoding...\")\n",
        "        Decode(src)\n",
        "\n",
        "    else:\n",
        "        print(\"ERROR: Invalid option chosen\")\n",
        "\n",
        "Stego()"
      ],
      "execution_count": null,
      "outputs": [
        {
          "output_type": "stream",
          "text": [
            "--Welcome to $t3g0--\n",
            "1: Encode\n",
            "2: Decode\n"
          ],
          "name": "stdout"
        }
      ]
    }
  ]
}