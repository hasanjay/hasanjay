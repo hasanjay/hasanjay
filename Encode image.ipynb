{
  "nbformat": 4,
  "nbformat_minor": 0,
  "metadata": {
    "colab": {
      "name": "Untitled21.ipynb",
      "provenance": [],
      "authorship_tag": "ABX9TyMP8B8uXYkAiO7C7w+yicYH",
      "include_colab_link": true
    },
    "kernelspec": {
      "name": "python3",
      "display_name": "Python 3"
    },
    "language_info": {
      "name": "python"
    }
  },
  "cells": [
    {
      "cell_type": "markdown",
      "metadata": {
        "id": "view-in-github",
        "colab_type": "text"
      },
      "source": [
        "<a href=\"https://colab.research.google.com/github/hasanjay/hasanjay/blob/main/Encode%20image.ipynb\" target=\"_parent\"><img src=\"https://colab.research.google.com/assets/colab-badge.svg\" alt=\"Open In Colab\"/></a>"
      ]
    },
    {
      "cell_type": "code",
      "metadata": {
        "colab": {
          "base_uri": "https://localhost:8080/"
        },
        "id": "Rgt9kUj8D-aY",
        "outputId": "de5cf4c0-0c34-4ff3-9550-c05d82eb4d6d"
      },
      "source": [
        "import numpy as np\n",
        "from PIL import Image\n",
        "def Encode(src, message, dest):\n",
        "\n",
        "    img = Image.open(src, 'r')\n",
        "    width, height = img.size\n",
        "    array = np.array(list(img.getdata()))\n",
        "\n",
        "    if img.mode == 'RGB':\n",
        "        n = 3\n",
        "    elif img.mode == 'RGBA':\n",
        "        n = 4\n",
        "    total_pixels = array.size//n\n",
        "    message += \"$t3g0\"\n",
        "    b_message = ''.join([format(ord(i), \"08b\") for i in message])\n",
        "    req_pixels = len(b_message)\n",
        "    if req_pixels > total_pixels:\n",
        "             print(\"ERROR: Need larger file size\")\n",
        "\n",
        "    else:\n",
        "         index=0\n",
        "    for p in range(total_pixels):\n",
        "        for q in range(0, 3):\n",
        "            if index < req_pixels:\n",
        "                array[p][q] = int(bin(array[p][q])[2:9] + b_message[index], 2)\n",
        "                index += 1\n",
        "                array=array.reshape(height, width, n)\n",
        "                enc_img = Image.fromarray(array.astype('uint8'), img.mode)\n",
        "                enc_img.save(dest)\n",
        "print(\"Image Encoded Successfully\")"
      ],
      "execution_count": 12,
      "outputs": [
        {
          "output_type": "stream",
          "text": [
            "Image Encoded Successfully\n"
          ],
          "name": "stdout"
        }
      ]
    }
  ]
}