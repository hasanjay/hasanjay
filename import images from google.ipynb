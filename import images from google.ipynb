{
  "nbformat": 4,
  "nbformat_minor": 0,
  "metadata": {
    "colab": {
      "name": "Untitled26.ipynb",
      "provenance": [],
      "authorship_tag": "ABX9TyNzZfdBD/0OXyr34jYnvL+l",
      "include_colab_link": true
    },
    "kernelspec": {
      "name": "python3",
      "display_name": "Python 3"
    },
    "language_info": {
      "name": "python"
    }
  },
  "cells": [
    {
      "cell_type": "markdown",
      "metadata": {
        "id": "view-in-github",
        "colab_type": "text"
      },
      "source": [
        "<a href=\"https://colab.research.google.com/github/hasanjay/hasanjay/blob/main/import%20images%20from%20google.ipynb\" target=\"_parent\"><img src=\"https://colab.research.google.com/assets/colab-badge.svg\" alt=\"Open In Colab\"/></a>"
      ]
    },
    {
      "cell_type": "code",
      "metadata": {
        "colab": {
          "base_uri": "https://localhost:8080/"
        },
        "id": "gaMMUxa8c1m7",
        "outputId": "2ad0f2ce-3a5e-4db2-89da-4480576ecf8b"
      },
      "source": [
        "\n",
        "from google_images_download import google_images_download\n",
        "\n",
        "#instantiate the class\n",
        "response = google_images_download.googleimagesdownload()\n",
        "arguments = {\"keywords\":\"flags, school bus, dog in front of house\",\n",
        "             \"limit\":10,\"print_urls\":False}\n",
        "paths = response.download(arguments)\n",
        "\n",
        "#print complete paths to the downloaded images\n",
        "print(paths)\n"
      ],
      "execution_count": 5,
      "outputs": [
        {
          "output_type": "stream",
          "text": [
            "\n",
            "Item no.: 1 --> Item name = flags\n",
            "Evaluating...\n",
            "Starting Download...\n",
            "Completed Image ====> 1.81kn+3dfhvl._ac_sy355_.jpg\n",
            "Completed Image ====> 2.61ftxv5hj3l._ac_sx425_.jpg\n",
            "Completed Image ====> 3.world-flag-flat-icon-collection-all-nations-country-flags-names-white-background-146391016.jpg\n",
            "Completed Image ====> 4.r10741_image1.jpg\n",
            "Completed Image ====> 5.collection-of-flags-most-popular-world-flags-vector-id1158319106.jpg\n",
            "Completed Image ====> 6.5616.jpg\n",
            "Completed Image ====> 7.flags-preview.jpg\n",
            "Completed Image ====> 8.set-of-flags-of-different-countries-vector-id513810488.jpg\n",
            "Completed Image ====> 9.0002284.jpeg\n",
            "Completed Image ====> 10.81-xvqktrdl._ac_sl1500_.jpg\n",
            "\n",
            "Errors: 0\n",
            "\n",
            "\n",
            "Item no.: 2 --> Item name =  school bus\n",
            "Evaluating...\n",
            "Starting Download...\n",
            "Completed Image ====> 1.0abb7132-665e-435d-bb31-95d462ddda84-ceb_covid_busing_fs_1.jpg\n",
            "Completed Image ====> 2.c826448baca744cca0b970e92376004e.jpg\n",
            "Completed Image ====> 3.thomas_saftliner_c2_rf.jpg\n",
            "Completed Image ====> 4.tcs-school-bus-rentals.png\n",
            "Completed Image ====> 5.duwi4knx5zhghmaf6n4v2rdavy.jpg\n",
            "Completed Image ====> 6..jpg\n",
            "Completed Image ====> 7.p2mws2pavvakheeo64jy5waodu.jpg\n",
            "Completed Image ====> 8.091318schoolbusnc2.jpg\n",
            "Completed Image ====> 9.original.jpg\n",
            "Completed Image ====> 10.school-bus-seatbelts.jpg\n",
            "\n",
            "Errors: 0\n",
            "\n",
            "\n",
            "Item no.: 3 --> Item name =  dog in front of house\n",
            "Evaluating...\n",
            "Starting Download...\n",
            "Completed Image ====> 1.dog-laying-in-front-of-suburban-house-519517073-5921f9733df78cf5fa9b382f.jpg\n",
            "Completed Image ====> 2.portrait-of-dog-in-front-of-house-x3ww9n.jpg\n",
            "Completed Image ====> 3.dog-front-house-doberman-cartoon-character-pet-animal-sitting-flat-style-vector-illustration-hound-guarding-home-domestic-173536420.jpg\n",
            "Completed Image ====> 4.a-white-dog-sitting-in-front-a-dog-house-vector-1240891.jpg\n",
            "Completed Image ====> 5.big-guard-dog-sitting-in-front-of-the-house-polish-tatra-sheepdog-2cdt4hk.jpg\n",
            "Completed Image ====> 6.happiness-family-with-the-dog-in-front-of-their-house-picture-id1149911346.jpg\n",
            "Completed Image ====> 7.dog-front-wood-house-grass-field-moonlight-mountain-range-background-cartoon-dog-front-wood-house-grass-169359280.jpg\n",
            "Completed Image ====> 8.99259461-big-guard-dog-in-front-of-the-house.jpg\n",
            "Completed Image ====> 9.cute-dog-sitting-in-front-kennel-vector-21527535.jpg\n",
            "Completed Image ====> 10.happiness-family-with-the-dog-in-front-of-their-house-picture-id1149350096.jpg\n",
            "\n",
            "Errors: 0\n",
            "\n",
            "({'flags': ['/content/downloads/flags/1.81kn+3dfhvl._ac_sy355_.jpg', '/content/downloads/flags/2.61ftxv5hj3l._ac_sx425_.jpg', '/content/downloads/flags/3.world-flag-flat-icon-collection-all-nations-country-flags-names-white-background-146391016.jpg', '/content/downloads/flags/4.r10741_image1.jpg', '/content/downloads/flags/5.collection-of-flags-most-popular-world-flags-vector-id1158319106.jpg', '/content/downloads/flags/6.5616.jpg', '/content/downloads/flags/7.flags-preview.jpg', '/content/downloads/flags/8.set-of-flags-of-different-countries-vector-id513810488.jpg', '/content/downloads/flags/9.0002284.jpeg', '/content/downloads/flags/10.81-xvqktrdl._ac_sl1500_.jpg'], ' school bus': ['/content/downloads/ school bus/1.0abb7132-665e-435d-bb31-95d462ddda84-ceb_covid_busing_fs_1.jpg', '/content/downloads/ school bus/2.c826448baca744cca0b970e92376004e.jpg', '/content/downloads/ school bus/3.thomas_saftliner_c2_rf.jpg', '/content/downloads/ school bus/4.tcs-school-bus-rentals.png', '/content/downloads/ school bus/5.duwi4knx5zhghmaf6n4v2rdavy.jpg', '/content/downloads/ school bus/6..jpg', '/content/downloads/ school bus/7.p2mws2pavvakheeo64jy5waodu.jpg', '/content/downloads/ school bus/8.091318schoolbusnc2.jpg', '/content/downloads/ school bus/9.original.jpg', '/content/downloads/ school bus/10.school-bus-seatbelts.jpg'], ' dog in front of house': ['/content/downloads/ dog in front of house/1.dog-laying-in-front-of-suburban-house-519517073-5921f9733df78cf5fa9b382f.jpg', '/content/downloads/ dog in front of house/2.portrait-of-dog-in-front-of-house-x3ww9n.jpg', '/content/downloads/ dog in front of house/3.dog-front-house-doberman-cartoon-character-pet-animal-sitting-flat-style-vector-illustration-hound-guarding-home-domestic-173536420.jpg', '/content/downloads/ dog in front of house/4.a-white-dog-sitting-in-front-a-dog-house-vector-1240891.jpg', '/content/downloads/ dog in front of house/5.big-guard-dog-sitting-in-front-of-the-house-polish-tatra-sheepdog-2cdt4hk.jpg', '/content/downloads/ dog in front of house/6.happiness-family-with-the-dog-in-front-of-their-house-picture-id1149911346.jpg', '/content/downloads/ dog in front of house/7.dog-front-wood-house-grass-field-moonlight-mountain-range-background-cartoon-dog-front-wood-house-grass-169359280.jpg', '/content/downloads/ dog in front of house/8.99259461-big-guard-dog-in-front-of-the-house.jpg', '/content/downloads/ dog in front of house/9.cute-dog-sitting-in-front-kennel-vector-21527535.jpg', '/content/downloads/ dog in front of house/10.happiness-family-with-the-dog-in-front-of-their-house-picture-id1149350096.jpg']}, 0)\n"
          ],
          "name": "stdout"
        }
      ]
    }
  ]
}